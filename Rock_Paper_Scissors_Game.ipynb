{
  "nbformat": 4,
  "nbformat_minor": 0,
  "metadata": {
    "colab": {
      "provenance": [],
      "authorship_tag": "ABX9TyPHy1n40uXQN37Esv73Hepz",
      "include_colab_link": true
    },
    "kernelspec": {
      "name": "python3",
      "display_name": "Python 3"
    },
    "language_info": {
      "name": "python"
    }
  },
  "cells": [
    {
      "cell_type": "markdown",
      "metadata": {
        "id": "view-in-github",
        "colab_type": "text"
      },
      "source": [
        "<a href=\"https://colab.research.google.com/github/sairaawahid/Rock-Paper-Scissors-Game/blob/main/Rock_Paper_Scissors_Game.ipynb\" target=\"_parent\"><img src=\"https://colab.research.google.com/assets/colab-badge.svg\" alt=\"Open In Colab\"/></a>"
      ]
    },
    {
      "cell_type": "code",
      "source": [
        "import random\n",
        "\n",
        "def get_choices():\n",
        "    \"\"\"\n",
        "    Prompt the player to enter their choice and randomly select\n",
        "    the computer’s choice from the available options.\n",
        "    Returns a dict with both selections.\n",
        "    \"\"\"\n",
        "    # Ask the player for their move\n",
        "    player_choice = input(\"Enter a choice (rock, paper, scissors): \")\n",
        "    # Define the valid options\n",
        "    options = [\"rock\", \"paper\", \"scissors\"]\n",
        "    # Randomly choose the computer’s move\n",
        "    computer_choice = random.choice(options)\n",
        "    # Package both choices in a dictionary\n",
        "    choices = {\"player\": player_choice, \"computer\": computer_choice}\n",
        "    return choices\n",
        "\n",
        "def check_win(player, computer):\n",
        "    \"\"\"\n",
        "    Compare the player’s choice to the computer’s choice,\n",
        "    print both, and return the result string.\n",
        "    \"\"\"\n",
        "    # Show what each side chose\n",
        "    print(f\"You chose {player}, computer chose {computer}\")\n",
        "\n",
        "    # Tie condition\n",
        "    if player == computer:\n",
        "        return \"It's a tie!\"\n",
        "\n",
        "    # Player chose rock\n",
        "    elif player == \"rock\":\n",
        "        # Rock beats scissors\n",
        "        if computer == \"scissors\":\n",
        "            return \"Rock smashes scissors! You win!\"\n",
        "        # Otherwise paper beats rock\n",
        "        else:\n",
        "            return \"Paper covers rock! You lose.\"\n",
        "\n",
        "    # Player chose paper\n",
        "    elif player == \"paper\":\n",
        "        # Paper beats rock\n",
        "        if computer == \"rock\":\n",
        "            return \"Paper covers rock! You win!\"\n",
        "        # Otherwise scissors beat paper\n",
        "        else:\n",
        "            return \"Scissors cut paper! You lose.\"\n",
        "\n",
        "    # Player chose scissors\n",
        "    elif player == \"scissors\":\n",
        "        # Scissors lose to rock\n",
        "        if computer == \"rock\":\n",
        "            return \"Rock smashes scissors! You lose.\"\n",
        "        # Otherwise scissors beat paper\n",
        "        else:\n",
        "            return \"Scissors cut paper! You win!\"\n",
        "\n",
        "    # Handle invalid input\n",
        "    else:\n",
        "        return \"Invalid choice. Please choose rock, paper, or scissors.\"\n",
        "\n",
        "\n",
        "def main():\n",
        "    # Infinite loop; will only exit when the player says “no”\n",
        "    while True:\n",
        "\n",
        "      # Get both choices\n",
        "      choices = get_choices()\n",
        "\n",
        "      # Determine and print the result\n",
        "      result = check_win(choices[\"player\"], choices[\"computer\"])\n",
        "      print(result)\n",
        "\n",
        "      # Ask if they want to play again\n",
        "      continue_game = input(\"Do you want to continue playing? (Yes/No)\").strip().lower()\n",
        "      if continue_game == \"no\":\n",
        "        print(\"See you next time!\")\n",
        "        break       # breaks out of the while True loop\n",
        "                    # otherwise loop continues automatically\n",
        "\n",
        "\n",
        "if __name__ == \"__main__\":\n",
        "    main()\n",
        "\n"
      ],
      "metadata": {
        "id": "B9e90sbH1lMw"
      },
      "execution_count": null,
      "outputs": []
    }
  ]
}