{
  "nbformat": 4,
  "nbformat_minor": 0,
  "metadata": {
    "colab": {
      "provenance": [],
      "authorship_tag": "ABX9TyOL2u4gp/n2YEWRky6Um1KV",
      "include_colab_link": true
    },
    "kernelspec": {
      "name": "python3",
      "display_name": "Python 3"
    },
    "language_info": {
      "name": "python"
    }
  },
  "cells": [
    {
      "cell_type": "markdown",
      "metadata": {
        "id": "view-in-github",
        "colab_type": "text"
      },
      "source": [
        "<a href=\"https://colab.research.google.com/github/sairaawahid/Rock-Paper-Scissors-Game/blob/main/Rosk_Paper_Scissors_Game.ipynb\" target=\"_parent\"><img src=\"https://colab.research.google.com/assets/colab-badge.svg\" alt=\"Open In Colab\"/></a>"
      ]
    },
    {
      "cell_type": "code",
      "source": [
        "import random\n",
        "\n",
        "def get_choices():\n",
        "    \"\"\"\n",
        "    Prompt the player to enter their choice and randomly select\n",
        "    the computer’s choice from the available options.\n",
        "    Returns a dict with both selections.\n",
        "    \"\"\"\n",
        "    # Ask the player for their move\n",
        "    player_choice = input(\"Enter a choice (rock, paper, scissors): \")\n",
        "    # Define the valid options\n",
        "    options = [\"rock\", \"paper\", \"scissors\"]\n",
        "    # Randomly choose the computer’s move\n",
        "    computer_choice = random.choice(options)\n",
        "    # Package both choices in a dictionary\n",
        "    choices = {\"player\": player_choice, \"computer\": computer_choice}\n",
        "    return choices\n",
        "\n",
        "def check_win(player, computer):\n",
        "    \"\"\"\n",
        "    Compare the player’s choice to the computer’s choice,\n",
        "    print both, and return the result string.\n",
        "    \"\"\"\n",
        "    # Show what each side chose\n",
        "    print(f\"You chose {player}, computer chose {computer}\")\n",
        "\n",
        "    # Tie condition\n",
        "    if player == computer:\n",
        "        return \"It's a tie!\"\n",
        "\n",
        "    # Player chose rock\n",
        "    elif player == \"rock\":\n",
        "        # Rock beats scissors\n",
        "        if computer == \"scissors\":\n",
        "            return \"Rock smashes scissors! You win!\"\n",
        "        # Otherwise paper beats rock\n",
        "        else:\n",
        "            return \"Paper covers rock! You lose.\"\n",
        "\n",
        "    # Player chose paper\n",
        "    elif player == \"paper\":\n",
        "        # Paper beats rock\n",
        "        if computer == \"rock\":\n",
        "            return \"Paper covers rock! You win!\"\n",
        "        # Otherwise scissors beat paper\n",
        "        else:\n",
        "            return \"Scissors cut paper! You lose.\"\n",
        "\n",
        "    # Player chose scissors\n",
        "    elif player == \"scissors\":\n",
        "        # Scissors lose to rock\n",
        "        if computer == \"rock\":\n",
        "            return \"Rock smashes scissors! You lose.\"\n",
        "        # Otherwise scissors beat paper\n",
        "        else:\n",
        "            return \"Scissors cut paper! You win!\"\n",
        "\n",
        "    # Handle invalid input\n",
        "    else:\n",
        "        return \"Invalid choice. Please choose rock, paper, or scissors.\"\n",
        "\n",
        "if __name__ == \"__main__\":\n",
        "    # Get both choices\n",
        "    choices = get_choices()\n",
        "    # Determine and print the result\n",
        "    result = check_win(choices[\"player\"], choices[\"computer\"])\n",
        "    print(result)\n"
      ],
      "metadata": {
        "colab": {
          "base_uri": "https://localhost:8080/"
        },
        "id": "k9Z8olI8d2h1",
        "outputId": "f85226f7-5799-4242-d31a-16ddb8002d6d"
      },
      "execution_count": 1,
      "outputs": [
        {
          "output_type": "stream",
          "name": "stdout",
          "text": [
            "Enter a choice (rock, paper, scissors): rock\n",
            "You chose rock, computer chose scissors\n",
            "Rock smashes scissors! You win!\n"
          ]
        }
      ]
    }
  ]
}